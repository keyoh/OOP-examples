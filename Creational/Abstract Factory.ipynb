{
 "cells": [
  {
   "cell_type": "markdown",
   "metadata": {},
   "source": [
    "# Intent\n",
    "Provide an interface for creating families of related or dependent objects without\n",
    "specifying their concrete classes. \n",
    "# Motivation\n",
    "TODO\n",
    "# Use the Factory pattern when\n",
    "• a system should be independent of how its products are created, composed, and\n",
    "represented. \\\n",
    "• a system should be configured with one of multiple families of products. \\\n",
    "• a family of related product objects is designed to be used together, and you need\n",
    "to enforce this constraint. \\\n",
    "• you want to provide a class library of products, and you want to reveal just their\n",
    "interfaces, not their implementations. "
   ]
  }
 ],
 "metadata": {
  "kernelspec": {
   "display_name": "Python 3",
   "language": "python",
   "name": "python3"
  },
  "language_info": {
   "codemirror_mode": {
    "name": "ipython",
    "version": 3
   },
   "file_extension": ".py",
   "mimetype": "text/x-python",
   "name": "python",
   "nbconvert_exporter": "python",
   "pygments_lexer": "ipython3",
   "version": "3.10.9"
  },
  "orig_nbformat": 4
 },
 "nbformat": 4,
 "nbformat_minor": 2
}
