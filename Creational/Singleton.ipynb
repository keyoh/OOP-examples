{
 "cells": [
  {
   "cell_type": "markdown",
   "metadata": {},
   "source": [
    "# Intent\n",
    "Ensure a class only has one instance, and provide a global point of access to it.\n",
    "# Motivation\n",
    "It's important for some classes to have exactly one instance. Although there can be\n",
    "many printers in a system, there should be only one printer spooler. There should be\n",
    "only one file system and one window manager. A digital filter will have one A/D\n",
    "converter. An accounting system will be dedicated to serving one company.\n",
    "How do we ensure that a class has only one instance and that the instance is easily\n",
    "accessible? A global variable makes an object accessible, but it doesn't keep you from\n",
    "instantiating multiple objects.\n",
    "A better solution is to make the class itself responsible for keeping track of its sole\n",
    "instance. The class can ensure that no other instance can be created (by intercepting\n",
    "requests to create new objects), and it can provide a way to access the instance. This is\n",
    "the Singleton pattern.\n",
    "# Use the Singleton pattern when\n",
    "• there must be exactly one instance of a class, and it must be accessible to clients\n",
    "from a well-known access point. \\\n",
    "• when the sole instance should be extensible by subclassing, and clients should\n",
    "be able to use an extended instance without modifying their code. "
   ]
  },
  {
   "cell_type": "code",
   "execution_count": 8,
   "metadata": {},
   "outputs": [],
   "source": [
    "class SingletonMeta(type):\n",
    "    \"\"\"\n",
    "    The Singleton class can be implemented in different ways in Python. Some\n",
    "    possible methods include: base class, decorator, metaclass. We will use the\n",
    "    metaclass because it is best suited for this purpose.\n",
    "    \"\"\"\n",
    "\n",
    "    _instances = {}\n",
    "\n",
    "    def __call__(cls, *args, **kwargs):\n",
    "        \"\"\"\n",
    "        Possible changes to the value of the `__init__` argument do not affect\n",
    "        the returned instance.\n",
    "        \"\"\"\n",
    "        if cls not in cls._instances:\n",
    "            instance = super().__call__(*args, **kwargs)\n",
    "            cls._instances[cls] = instance\n",
    "        return cls._instances[cls]\n",
    "\n",
    "\n",
    "class Singleton(metaclass=SingletonMeta):\n",
    "    def some_business_logic(self):\n",
    "        \"\"\"\n",
    "        Finally, any singleton should define some business logic, which can be\n",
    "        executed on its instance.\n",
    "        \"\"\"\n",
    "        pass"
   ]
  },
  {
   "cell_type": "code",
   "execution_count": 9,
   "metadata": {},
   "outputs": [
    {
     "data": {
      "text/plain": [
       "True"
      ]
     },
     "execution_count": 9,
     "metadata": {},
     "output_type": "execute_result"
    }
   ],
   "source": [
    "s1 = Singleton()\n",
    "s2 = Singleton()\n",
    "\n",
    "id(s1) == id(s2)"
   ]
  },
  {
   "cell_type": "markdown",
   "metadata": {},
   "source": [
    "## Method 1: A decorator"
   ]
  },
  {
   "cell_type": "code",
   "execution_count": null,
   "metadata": {},
   "outputs": [],
   "source": [
    "def singleton(class_):\n",
    "    instances = {}\n",
    "    def getinstance(*args, **kwargs):\n",
    "        if class_ not in instances:\n",
    "            instances[class_] = class_(*args, **kwargs)\n",
    "        return instances[class_]\n",
    "    return getinstance\n",
    "\n",
    "@singleton\n",
    "class MyClass(BaseClass):\n",
    "    pass"
   ]
  },
  {
   "cell_type": "markdown",
   "metadata": {},
   "source": [
    "Pros\n",
    "\n",
    "* Decorators are additive in a way that is often more intuitive than multiple inheritance.\n",
    "\n",
    "Cons\n",
    "\n",
    "* While objects created using MyClass() would be true singleton objects, MyClass itself is a function, not a class, so you cannot call class methods from it. \\\n",
    "Also for\n",
    "x = MyClass(); \\\n",
    "y = MyClass(); \\\n",
    "t = type(n)(); \\\n",
    "then x == y but x != t && y != t"
   ]
  },
  {
   "cell_type": "markdown",
   "metadata": {},
   "source": [
    "## Method 2: A base class"
   ]
  },
  {
   "cell_type": "code",
   "execution_count": null,
   "metadata": {},
   "outputs": [],
   "source": [
    "class Singleton(object):\n",
    "    _instance = None\n",
    "    def __new__(class_, *args, **kwargs):\n",
    "        if not isinstance(class_._instance, class_):\n",
    "            class_._instance = object.__new__(class_, *args, **kwargs)\n",
    "        return class_._instance\n",
    "\n",
    "class MyClass(Singleton, BaseClass):\n",
    "    pass"
   ]
  },
  {
   "cell_type": "markdown",
   "metadata": {},
   "source": [
    "Pros\n",
    "\n",
    "* It's a true class\n",
    "\n",
    "Cons\n",
    "\n",
    "* Multiple inheritance - eugh! __new__ could be overwritten during inheritance from a second base class? One has to think more than is necessary."
   ]
  },
  {
   "cell_type": "markdown",
   "metadata": {},
   "source": [
    "## Method 3: A metaclass"
   ]
  },
  {
   "cell_type": "code",
   "execution_count": null,
   "metadata": {},
   "outputs": [],
   "source": [
    "class Singleton(type):\n",
    "    _instances = {}\n",
    "    def __call__(cls, *args, **kwargs):\n",
    "        if cls not in cls._instances:\n",
    "            cls._instances[cls] = super(Singleton, cls).__call__(*args, **kwargs)\n",
    "        return cls._instances[cls]\n",
    "\n",
    "#Python2\n",
    "class MyClass(BaseClass):\n",
    "    __metaclass__ = Singleton\n",
    "\n",
    "#Python3\n",
    "class MyClass(BaseClass, metaclass=Singleton):\n",
    "    pass"
   ]
  },
  {
   "cell_type": "markdown",
   "metadata": {},
   "source": [
    "Pros\n",
    "\n",
    "* It's a true class\n",
    "* Auto-magically covers inheritance\n",
    "* Uses __metaclass__ for its proper purpose (and made me aware of it)\n",
    "\n",
    "Cons\n",
    "\n",
    "* Are there any?"
   ]
  },
  {
   "cell_type": "markdown",
   "metadata": {},
   "source": [
    "## Method 4: decorator returning a class with the same name"
   ]
  },
  {
   "cell_type": "code",
   "execution_count": null,
   "metadata": {},
   "outputs": [],
   "source": [
    "def singleton(class_):\n",
    "    class class_w(class_):\n",
    "        _instance = None\n",
    "        def __new__(class_, *args, **kwargs):\n",
    "            if class_w._instance is None:\n",
    "                class_w._instance = super(class_w,\n",
    "                                    class_).__new__(class_,\n",
    "                                                    *args,\n",
    "                                                    **kwargs)\n",
    "                class_w._instance._sealed = False\n",
    "            return class_w._instance\n",
    "        def __init__(self, *args, **kwargs):\n",
    "            if self._sealed:\n",
    "                return\n",
    "            super(class_w, self).__init__(*args, **kwargs)\n",
    "            self._sealed = True\n",
    "    class_w.__name__ = class_.__name__\n",
    "    return class_w\n",
    "\n",
    "@singleton\n",
    "class MyClass(BaseClass):\n",
    "    pass"
   ]
  },
  {
   "cell_type": "markdown",
   "metadata": {},
   "source": [
    "Pros\n",
    "\n",
    "* It's a true class\n",
    "* Auto-magically covers inheritance\n",
    "\n",
    "Cons\n",
    "\n",
    "* Is there not an overhead for creating each new class? Here we are creating two classes for each class we wish to make a singleton. While this is fine in my case, I worry that this might not scale. Of course there is a matter of debate as to whether it aught to be too easy to scale this pattern...\n",
    "* What is the point of the _sealed attribute\n",
    "* Can't call methods of the same name on base classes using super() because they will recurse. This means you can't customize __new__ and can't subclass a class that needs you to call up to __init__."
   ]
  }
 ],
 "metadata": {
  "kernelspec": {
   "display_name": "DS",
   "language": "python",
   "name": "python3"
  },
  "language_info": {
   "codemirror_mode": {
    "name": "ipython",
    "version": 3
   },
   "file_extension": ".py",
   "mimetype": "text/x-python",
   "name": "python",
   "nbconvert_exporter": "python",
   "pygments_lexer": "ipython3",
   "version": "3.10.9"
  },
  "orig_nbformat": 4
 },
 "nbformat": 4,
 "nbformat_minor": 2
}
